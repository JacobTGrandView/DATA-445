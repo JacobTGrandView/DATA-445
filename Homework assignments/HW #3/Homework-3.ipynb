{
 "cells": [
  {
   "cell_type": "markdown",
   "id": "cf033f7e-f9f6-4d2c-81d1-a806caa2ea58",
   "metadata": {},
   "source": [
    "### Exercise 1 - You are given a dataset having more variables than observations. Assuming that there seems to be a linear relationship between the target variable and the input variables in the dataset, why ordinary least squares (OLS) is a bad option to estimate the model parameters? Which technique would be best to use? Why?\n",
    "\n",
    "**Answer:** OLS can't be used since there are more variables than observations, it means there aren't unique squares coefficients. Ridge regression or LASSO is probably the best to shrink the regression coefficients towards zero. "
   ]
  },
  {
   "cell_type": "markdown",
   "id": "5744bfb8-62fd-48d3-b00e-55bdcc51769e",
   "metadata": {},
   "source": [
    "## Exercise 2 - For Ridge regression, if the regularization parameter, λ, is equal to 0, what are the implications?\n",
    "\n",
    "**Answer:** D) All the above"
   ]
  },
  {
   "cell_type": "markdown",
   "id": "57c4a484-a6bb-4d52-a84a-cdf8a942a425",
   "metadata": {},
   "source": [
    "### Exercise 3 - For Lasso Regression, if the regularization parameter, λ, is very high, which options are true? Select all that apply.\n",
    "\n",
    "**Answer:** A and B are true, so F is the answer"
   ]
  },
  {
   "cell_type": "markdown",
   "id": "5ff2bda8-822c-462b-9964-2d9eedc3da5d",
   "metadata": {},
   "source": [
    "### Exercise 4 - An important theoretical result of statistics and Machine Learning is the fact that model’s generalization error can be expressed as the sum of two very different errors:\n",
    "\n",
    "• Bias: This part of the generalization error is due to wrong assumptions, such as assuming\n",
    "that the data is linear when it is actually quadratic. A high-bias model is most likely to\n",
    "under-fit the training data.\n",
    "\n",
    "• Variance: This part is due to the model’s excessive sensitivity to small variations in the\n",
    "training data. A model with many degrees of freedom (such as a high-degree polynomial\n",
    "model) is likely to have high variance and thus overfit the training data.\n",
    "\n",
    "Suppose you are using Ridge Regression and you notice that the training error and\n",
    "the validation error are almost equal and fairly high. Would you say that the model suffers from\n",
    "high bias or high variance? Should you increase the regularization parameter, λ, or reduce it?\n",
    "\n",
    "\n",
    "**Answer:** High bias, and you should reduce the regularization parameter λ"
   ]
  },
  {
   "cell_type": "markdown",
   "id": "d599a36f-a3e6-499e-b280-62ad4e6f54ab",
   "metadata": {},
   "source": [
    "### Exercise 5 - Consider the CarPrice Assignment.csv data file. This data has information on cars (characteristics related to car dimensions, engine and more). The goal is to use car information to predict the price of the car. In Python, answer the following:\n",
    "\n",
    "##### 5a - Using the pandas library, read the csv data file and create a data-frame called car_price.<br>\n",
    "##### 5b - Split the data into train (80%) and test (20%).<br>\n",
    "##### 5c - Using the wheelbase, enginesize, compressionratio, horsepower, peakrpm, citympg, and highwaympg as the predictor variables (from the train dataset), and price is the target variable (from the train dataset). Do the following:<br>\n",
    "###### (1) Using the train dataset (make sure to normalize the input data with StandardScaler and Pipeline), (i) Estimate the optimal lambda in the LASSO model using default values (that is, youdon’t need to define the range of values for alphas) for lambda in scikit-learn and 5-folds. (ii) Perform LASSO as a variable selector (using the optimal lambda from previous step). Repeat step (1) 1000 times. Store the estimated model coefficients of each iteration in a data-frame. Remove the variables, whose estimated coefficients is 0 more than 500 times, from the training and testing datasets. <br>\n",
    "##### 5d - Using the results from part (c), build a linear regression model. After that, use this model to predict on the test dataset. Report the MSE of this model. Make sure to normalize the input data with StandardScaler and Pipeline.<br>\n",
    "##### 5e - Using the results from part (c), build a Ridge regression model as follows:\n",
    "###### Using the train dataset, estimate the optimal lambda from the following set [0.001, 0.01, 0.1, 1, 10, 100] and using 5-folds. Make sure to normalize the input data with StandardScaler and Pipeline. Repeat (i) 100 times, store the optimal lambda of each iteration. Using the most common lambda of the 100 optimal lambdas to build a Ridge regression model. After that, use this model to predict on the test dataset. Report the MSE of this model. Make sure to normalize the input data with StandardScaler and Pipeline.<br>\n",
    "##### 5f - Using the results from parts (d) and (e), what model would you use to predict car price? Explain.\n",
    "\n",
    "\n",
    "\n",
    "\n"
   ]
  },
  {
   "cell_type": "code",
   "execution_count": 49,
   "id": "6e475c52-e8e3-475c-98ff-6a9b2f909383",
   "metadata": {},
   "outputs": [
    {
     "data": {
      "text/html": [
       "<div>\n",
       "<style scoped>\n",
       "    .dataframe tbody tr th:only-of-type {\n",
       "        vertical-align: middle;\n",
       "    }\n",
       "\n",
       "    .dataframe tbody tr th {\n",
       "        vertical-align: top;\n",
       "    }\n",
       "\n",
       "    .dataframe thead th {\n",
       "        text-align: right;\n",
       "    }\n",
       "</style>\n",
       "<table border=\"1\" class=\"dataframe\">\n",
       "  <thead>\n",
       "    <tr style=\"text-align: right;\">\n",
       "      <th></th>\n",
       "      <th>car_ID</th>\n",
       "      <th>symboling</th>\n",
       "      <th>CarName</th>\n",
       "      <th>fueltype</th>\n",
       "      <th>aspiration</th>\n",
       "      <th>doornumber</th>\n",
       "      <th>carbody</th>\n",
       "      <th>drivewheel</th>\n",
       "      <th>enginelocation</th>\n",
       "      <th>wheelbase</th>\n",
       "      <th>...</th>\n",
       "      <th>enginesize</th>\n",
       "      <th>fuelsystem</th>\n",
       "      <th>boreratio</th>\n",
       "      <th>stroke</th>\n",
       "      <th>compressionratio</th>\n",
       "      <th>horsepower</th>\n",
       "      <th>peakrpm</th>\n",
       "      <th>citympg</th>\n",
       "      <th>highwaympg</th>\n",
       "      <th>price</th>\n",
       "    </tr>\n",
       "  </thead>\n",
       "  <tbody>\n",
       "    <tr>\n",
       "      <th>0</th>\n",
       "      <td>1</td>\n",
       "      <td>3</td>\n",
       "      <td>alfa-romero giulia</td>\n",
       "      <td>gas</td>\n",
       "      <td>std</td>\n",
       "      <td>two</td>\n",
       "      <td>convertible</td>\n",
       "      <td>rwd</td>\n",
       "      <td>front</td>\n",
       "      <td>88.6</td>\n",
       "      <td>...</td>\n",
       "      <td>130</td>\n",
       "      <td>mpfi</td>\n",
       "      <td>3.47</td>\n",
       "      <td>2.68</td>\n",
       "      <td>9.0</td>\n",
       "      <td>111</td>\n",
       "      <td>5000</td>\n",
       "      <td>21</td>\n",
       "      <td>27</td>\n",
       "      <td>13495.0</td>\n",
       "    </tr>\n",
       "    <tr>\n",
       "      <th>1</th>\n",
       "      <td>2</td>\n",
       "      <td>3</td>\n",
       "      <td>alfa-romero stelvio</td>\n",
       "      <td>gas</td>\n",
       "      <td>std</td>\n",
       "      <td>two</td>\n",
       "      <td>convertible</td>\n",
       "      <td>rwd</td>\n",
       "      <td>front</td>\n",
       "      <td>88.6</td>\n",
       "      <td>...</td>\n",
       "      <td>130</td>\n",
       "      <td>mpfi</td>\n",
       "      <td>3.47</td>\n",
       "      <td>2.68</td>\n",
       "      <td>9.0</td>\n",
       "      <td>111</td>\n",
       "      <td>5000</td>\n",
       "      <td>21</td>\n",
       "      <td>27</td>\n",
       "      <td>16500.0</td>\n",
       "    </tr>\n",
       "    <tr>\n",
       "      <th>2</th>\n",
       "      <td>3</td>\n",
       "      <td>1</td>\n",
       "      <td>alfa-romero Quadrifoglio</td>\n",
       "      <td>gas</td>\n",
       "      <td>std</td>\n",
       "      <td>two</td>\n",
       "      <td>hatchback</td>\n",
       "      <td>rwd</td>\n",
       "      <td>front</td>\n",
       "      <td>94.5</td>\n",
       "      <td>...</td>\n",
       "      <td>152</td>\n",
       "      <td>mpfi</td>\n",
       "      <td>2.68</td>\n",
       "      <td>3.47</td>\n",
       "      <td>9.0</td>\n",
       "      <td>154</td>\n",
       "      <td>5000</td>\n",
       "      <td>19</td>\n",
       "      <td>26</td>\n",
       "      <td>16500.0</td>\n",
       "    </tr>\n",
       "    <tr>\n",
       "      <th>3</th>\n",
       "      <td>4</td>\n",
       "      <td>2</td>\n",
       "      <td>audi 100 ls</td>\n",
       "      <td>gas</td>\n",
       "      <td>std</td>\n",
       "      <td>four</td>\n",
       "      <td>sedan</td>\n",
       "      <td>fwd</td>\n",
       "      <td>front</td>\n",
       "      <td>99.8</td>\n",
       "      <td>...</td>\n",
       "      <td>109</td>\n",
       "      <td>mpfi</td>\n",
       "      <td>3.19</td>\n",
       "      <td>3.40</td>\n",
       "      <td>10.0</td>\n",
       "      <td>102</td>\n",
       "      <td>5500</td>\n",
       "      <td>24</td>\n",
       "      <td>30</td>\n",
       "      <td>13950.0</td>\n",
       "    </tr>\n",
       "    <tr>\n",
       "      <th>4</th>\n",
       "      <td>5</td>\n",
       "      <td>2</td>\n",
       "      <td>audi 100ls</td>\n",
       "      <td>gas</td>\n",
       "      <td>std</td>\n",
       "      <td>four</td>\n",
       "      <td>sedan</td>\n",
       "      <td>4wd</td>\n",
       "      <td>front</td>\n",
       "      <td>99.4</td>\n",
       "      <td>...</td>\n",
       "      <td>136</td>\n",
       "      <td>mpfi</td>\n",
       "      <td>3.19</td>\n",
       "      <td>3.40</td>\n",
       "      <td>8.0</td>\n",
       "      <td>115</td>\n",
       "      <td>5500</td>\n",
       "      <td>18</td>\n",
       "      <td>22</td>\n",
       "      <td>17450.0</td>\n",
       "    </tr>\n",
       "  </tbody>\n",
       "</table>\n",
       "<p>5 rows × 26 columns</p>\n",
       "</div>"
      ],
      "text/plain": [
       "   car_ID  symboling                   CarName fueltype aspiration doornumber  \\\n",
       "0       1          3        alfa-romero giulia      gas        std        two   \n",
       "1       2          3       alfa-romero stelvio      gas        std        two   \n",
       "2       3          1  alfa-romero Quadrifoglio      gas        std        two   \n",
       "3       4          2               audi 100 ls      gas        std       four   \n",
       "4       5          2                audi 100ls      gas        std       four   \n",
       "\n",
       "       carbody drivewheel enginelocation  wheelbase  ...  enginesize  \\\n",
       "0  convertible        rwd          front       88.6  ...         130   \n",
       "1  convertible        rwd          front       88.6  ...         130   \n",
       "2    hatchback        rwd          front       94.5  ...         152   \n",
       "3        sedan        fwd          front       99.8  ...         109   \n",
       "4        sedan        4wd          front       99.4  ...         136   \n",
       "\n",
       "   fuelsystem  boreratio  stroke compressionratio horsepower  peakrpm citympg  \\\n",
       "0        mpfi       3.47    2.68              9.0        111     5000      21   \n",
       "1        mpfi       3.47    2.68              9.0        111     5000      21   \n",
       "2        mpfi       2.68    3.47              9.0        154     5000      19   \n",
       "3        mpfi       3.19    3.40             10.0        102     5500      24   \n",
       "4        mpfi       3.19    3.40              8.0        115     5500      18   \n",
       "\n",
       "   highwaympg    price  \n",
       "0          27  13495.0  \n",
       "1          27  16500.0  \n",
       "2          26  16500.0  \n",
       "3          30  13950.0  \n",
       "4          22  17450.0  \n",
       "\n",
       "[5 rows x 26 columns]"
      ]
     },
     "execution_count": 49,
     "metadata": {},
     "output_type": "execute_result"
    }
   ],
   "source": [
    "import pandas as pd\n",
    "car_price = pd.read_csv('CarPrice_Assignment(6).csv')\n",
    "car_price.head()"
   ]
  },
  {
   "cell_type": "code",
   "execution_count": 50,
   "id": "c3996eab-e2c8-4a43-99b5-02f1420933f6",
   "metadata": {},
   "outputs": [],
   "source": [
    "import numpy as np\n",
    "from tqdm import tqdm_notebook, tqdm\n",
    "from sklearn.pipeline import make_pipeline, Pipeline\n",
    "from sklearn.model_selection import KFold\n",
    "from sklearn.model_selection import train_test_split\n",
    "from sklearn.preprocessing import StandardScaler\n",
    "from sklearn.linear_model import LinearRegression, Lasso, LassoCV, Ridge, RidgeCV\n",
    "from sklearn.metrics import mean_squared_error"
   ]
  },
  {
   "cell_type": "code",
   "execution_count": 51,
   "id": "15b2e540-8cfd-499c-b38b-c7f46de7aec1",
   "metadata": {},
   "outputs": [],
   "source": [
    "#Input variables\n",
    "X = car_price[['wheelbase', 'enginesize', 'compressionratio', 'horsepower', 'peakrpm', 'citympg', 'highwaympg']]\n",
    "\n",
    "#Target variable\n",
    "Y = car_price['price']\n",
    "\n",
    "#Split data\n",
    "X_train, X_test, Y_train, Y_test = train_test_split(X, Y, test_size = 0.2)"
   ]
  },
  {
   "cell_type": "code",
   "execution_count": 52,
   "id": "796674f8-c359-4005-80e6-46b8a41ad8a8",
   "metadata": {},
   "outputs": [
    {
     "name": "stderr",
     "output_type": "stream",
     "text": [
      "100%|██████████| 1000/1000 [02:17<00:00,  7.26it/s]\n"
     ]
    }
   ],
   "source": [
    "lasso_coef = list()\n",
    "\n",
    "for i in tqdm(range(0, 1000)):\n",
    "    kf = KFold(n_splits = 5, shuffle = True, random_state = i)\n",
    "\n",
    "    lasso_cv = Pipeline([('scaler', StandardScaler()),\n",
    "                         ('model', LassoCV(cv = kf.split(X_train)))]).fit(X_train, Y_train)\n",
    "\n",
    "    lasso_lambda = lasso_cv.named_steps['model'].alpha_\n",
    "\n",
    "    lasso_md = Pipeline([('scaler', StandardScaler()),\n",
    "                         ('model', Lasso(alpha = lasso_lambda))]).fit(X_train, Y_train)\n",
    "\n",
    "    lasso_coef.append(lasso_md.named_steps['model'].coef_)"
   ]
  },
  {
   "cell_type": "code",
   "execution_count": 53,
   "id": "9b56b284-7e9b-408c-b3ae-0bf50e23c8ed",
   "metadata": {},
   "outputs": [
    {
     "data": {
      "text/html": [
       "<div>\n",
       "<style scoped>\n",
       "    .dataframe tbody tr th:only-of-type {\n",
       "        vertical-align: middle;\n",
       "    }\n",
       "\n",
       "    .dataframe tbody tr th {\n",
       "        vertical-align: top;\n",
       "    }\n",
       "\n",
       "    .dataframe thead th {\n",
       "        text-align: right;\n",
       "    }\n",
       "</style>\n",
       "<table border=\"1\" class=\"dataframe\">\n",
       "  <thead>\n",
       "    <tr style=\"text-align: right;\">\n",
       "      <th></th>\n",
       "      <th>wheelbase</th>\n",
       "      <th>enginesize</th>\n",
       "      <th>compressionratio</th>\n",
       "      <th>horsepower</th>\n",
       "      <th>peakrpm</th>\n",
       "      <th>citympg</th>\n",
       "      <th>highwaympg</th>\n",
       "    </tr>\n",
       "  </thead>\n",
       "  <tbody>\n",
       "    <tr>\n",
       "      <th>0</th>\n",
       "      <td>1152.400090</td>\n",
       "      <td>4515.157914</td>\n",
       "      <td>1305.553496</td>\n",
       "      <td>1234.262201</td>\n",
       "      <td>704.601631</td>\n",
       "      <td>-1161.262878</td>\n",
       "      <td>-80.390506</td>\n",
       "    </tr>\n",
       "    <tr>\n",
       "      <th>1</th>\n",
       "      <td>1154.083824</td>\n",
       "      <td>4530.958694</td>\n",
       "      <td>1319.422579</td>\n",
       "      <td>1221.468942</td>\n",
       "      <td>721.846824</td>\n",
       "      <td>-1180.073669</td>\n",
       "      <td>-70.619115</td>\n",
       "    </tr>\n",
       "    <tr>\n",
       "      <th>2</th>\n",
       "      <td>1157.589115</td>\n",
       "      <td>4563.955924</td>\n",
       "      <td>1348.385100</td>\n",
       "      <td>1194.775556</td>\n",
       "      <td>757.869101</td>\n",
       "      <td>-1219.121536</td>\n",
       "      <td>-50.432917</td>\n",
       "    </tr>\n",
       "    <tr>\n",
       "      <th>3</th>\n",
       "      <td>1155.095132</td>\n",
       "      <td>4540.147626</td>\n",
       "      <td>1327.553812</td>\n",
       "      <td>1214.048151</td>\n",
       "      <td>731.943176</td>\n",
       "      <td>-1191.062730</td>\n",
       "      <td>-64.905037</td>\n",
       "    </tr>\n",
       "    <tr>\n",
       "      <th>4</th>\n",
       "      <td>1150.034878</td>\n",
       "      <td>4494.666604</td>\n",
       "      <td>1287.229642</td>\n",
       "      <td>1250.791252</td>\n",
       "      <td>681.905031</td>\n",
       "      <td>-1136.247247</td>\n",
       "      <td>-93.566204</td>\n",
       "    </tr>\n",
       "  </tbody>\n",
       "</table>\n",
       "</div>"
      ],
      "text/plain": [
       "     wheelbase   enginesize  compressionratio   horsepower     peakrpm  \\\n",
       "0  1152.400090  4515.157914       1305.553496  1234.262201  704.601631   \n",
       "1  1154.083824  4530.958694       1319.422579  1221.468942  721.846824   \n",
       "2  1157.589115  4563.955924       1348.385100  1194.775556  757.869101   \n",
       "3  1155.095132  4540.147626       1327.553812  1214.048151  731.943176   \n",
       "4  1150.034878  4494.666604       1287.229642  1250.791252  681.905031   \n",
       "\n",
       "       citympg  highwaympg  \n",
       "0 -1161.262878  -80.390506  \n",
       "1 -1180.073669  -70.619115  \n",
       "2 -1219.121536  -50.432917  \n",
       "3 -1191.062730  -64.905037  \n",
       "4 -1136.247247  -93.566204  "
      ]
     },
     "execution_count": 53,
     "metadata": {},
     "output_type": "execute_result"
    }
   ],
   "source": [
    "lasso_coef = pd.DataFrame(lasso_coef)\n",
    "lasso_coef.columns = X.columns.tolist()\n",
    "lasso_coef.head()"
   ]
  },
  {
   "cell_type": "code",
   "execution_count": 54,
   "id": "6f9b47fd-769a-445d-a168-6d80101b1eab",
   "metadata": {},
   "outputs": [
    {
     "data": {
      "text/plain": [
       "wheelbase           0\n",
       "enginesize          0\n",
       "compressionratio    0\n",
       "horsepower          0\n",
       "peakrpm             0\n",
       "citympg             0\n",
       "highwaympg          0\n",
       "dtype: int64"
      ]
     },
     "execution_count": 54,
     "metadata": {},
     "output_type": "execute_result"
    }
   ],
   "source": [
    "#Total times it equals 0\n",
    "(lasso_coef == 0).sum(axis = 0)"
   ]
  },
  {
   "cell_type": "code",
   "execution_count": 55,
   "id": "025db267-28b2-407d-a533-9215a61d058d",
   "metadata": {},
   "outputs": [],
   "source": [
    "#'highwaympg' has coefficients that equal 0 more than 500 times, so we remove it from both datasets\n",
    "X_train = X_train.drop(columns = 'highwaympg', axis = 1)\n",
    "X_test = X_test.drop(columns = 'highwaympg', axis = 1)"
   ]
  },
  {
   "cell_type": "code",
   "execution_count": 56,
   "id": "53554684-5c8b-4b7b-ab00-4f774bedbb24",
   "metadata": {},
   "outputs": [
    {
     "name": "stdout",
     "output_type": "stream",
     "text": [
      "Linear Regression MSE is  16647977.984586375\n"
     ]
    }
   ],
   "source": [
    "#Build model\n",
    "lm_md = make_pipeline(StandardScaler(), LinearRegression()).fit(X_train, Y_train)\n",
    "\n",
    "#Predict\n",
    "lm_pred = lm_md.predict(X_test)\n",
    "\n",
    "#MSE\n",
    "lm_mse = mean_squared_error(Y_test, lm_pred)\n",
    "print('Linear Regression MSE is ', lm_mse)"
   ]
  },
  {
   "cell_type": "code",
   "execution_count": 57,
   "id": "e1620d5c-c362-4569-b237-c86b691b0d65",
   "metadata": {},
   "outputs": [
    {
     "name": "stderr",
     "output_type": "stream",
     "text": [
      "100%|██████████| 100/100 [00:08<00:00, 12.34it/s]\n"
     ]
    }
   ],
   "source": [
    "ridge_lambda = list()\n",
    "\n",
    "#Repeat 100 times. Ridge regression\n",
    "for i in tqdm(range(0, 100)):\n",
    "\n",
    "    kf = KFold(n_splits = 5, shuffle = True, random_state = i)\n",
    "    \n",
    "    ridge_cv = Pipeline([('scaler', StandardScaler()),\n",
    "                         ('model', RidgeCV(alphas = [0.001, 0.01, 0.1, 1, 10, 100],\n",
    "                                           cv = kf.split(X_train)))]).fit(X_train, Y_train)\n",
    "\n",
    "    #Store lambda with .append\n",
    "    ridge_lambda.append(ridge_cv.named_steps['model'].alpha_)"
   ]
  },
  {
   "cell_type": "code",
   "execution_count": 58,
   "id": "6592e117-1898-458a-a108-03f8b7edd13e",
   "metadata": {},
   "outputs": [
    {
     "name": "stdout",
     "output_type": "stream",
     "text": [
      "Ridge mse is  17153297.00556623\n"
     ]
    }
   ],
   "source": [
    "ridge_model = make_pipeline(StandardScaler(), Ridge(alpha = 10)).fit(X_train, Y_train)\n",
    "\n",
    "ridge_pred = ridge_model.predict(X_test)\n",
    "ridge_mse = mean_squared_error(Y_test, ridge_pred)\n",
    "print('Ridge mse is ', ridge_mse)"
   ]
  },
  {
   "cell_type": "markdown",
   "id": "f33151f3-c07e-4f27-a789-10ee0f107631",
   "metadata": {},
   "source": [
    "### From the 2 models above, I would use Linear Regression model since the MSE is slightly lower"
   ]
  }
 ],
 "metadata": {
  "kernelspec": {
   "display_name": "Python 3 (ipykernel)",
   "language": "python",
   "name": "python3"
  },
  "language_info": {
   "codemirror_mode": {
    "name": "ipython",
    "version": 3
   },
   "file_extension": ".py",
   "mimetype": "text/x-python",
   "name": "python",
   "nbconvert_exporter": "python",
   "pygments_lexer": "ipython3",
   "version": "3.8.17"
  }
 },
 "nbformat": 4,
 "nbformat_minor": 5
}
